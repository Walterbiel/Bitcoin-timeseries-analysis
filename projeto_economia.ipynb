{
 "cells": [
  {
   "cell_type": "markdown",
   "metadata": {},
   "source": [
    "### Projeto economia - Borracha exportação 2023- Brasil"
   ]
  },
  {
   "cell_type": "code",
   "execution_count": 1,
   "metadata": {},
   "outputs": [],
   "source": [
    "# bibliotecas e formatos\n",
    "import pandas as pd\n",
    "import numpy as np\n",
    "\n",
    "import matplotlib.pyplot as plt\n",
    "import seaborn as sns\n",
    "\n",
    "import plotly.express as px\n",
    "import plotly.graph_objects as go\n",
    "from plotly import subplots\n",
    "import nbformat\n",
    "\n",
    "#estilo plt\n",
    "plt.style.use(\"ggplot\")\n",
    "\n",
    "#formato numerico pandas\n",
    "pd.options.display.float_format = '{:.2f}'.format"
   ]
  },
  {
   "cell_type": "markdown",
   "metadata": {},
   "source": [
    "#### Extraindo dados,tratando e explorando"
   ]
  },
  {
   "cell_type": "code",
   "execution_count": 2,
   "metadata": {},
   "outputs": [
    {
     "name": "stdout",
     "output_type": "stream",
     "text": [
      "(1798, 7)\n"
     ]
    }
   ],
   "source": [
    "#extração de dados\n",
    "df = pd.read_csv('Base_Dados_economia_borracha.csv',sep=\";\")\n",
    "#filtando apenas secção de platicos e borrachas\n",
    "df = df[df[\"Codigo Seção\"] == \"VII\"]\n",
    "print(df.shape)"
   ]
  },
  {
   "cell_type": "code",
   "execution_count": 3,
   "metadata": {},
   "outputs": [
    {
     "data": {
      "text/html": [
       "<div>\n",
       "<style scoped>\n",
       "    .dataframe tbody tr th:only-of-type {\n",
       "        vertical-align: middle;\n",
       "    }\n",
       "\n",
       "    .dataframe tbody tr th {\n",
       "        vertical-align: top;\n",
       "    }\n",
       "\n",
       "    .dataframe thead th {\n",
       "        text-align: right;\n",
       "    }\n",
       "</style>\n",
       "<table border=\"1\" class=\"dataframe\">\n",
       "  <thead>\n",
       "    <tr style=\"text-align: right;\">\n",
       "      <th></th>\n",
       "      <th>Ano</th>\n",
       "      <th>Mês</th>\n",
       "      <th>País</th>\n",
       "      <th>Codigo Seção</th>\n",
       "      <th>Descrição Seção</th>\n",
       "      <th>Valor FOB (US$)</th>\n",
       "      <th>Quilograma Líquido</th>\n",
       "    </tr>\n",
       "  </thead>\n",
       "  <tbody>\n",
       "    <tr>\n",
       "      <th>0</th>\n",
       "      <td>2023</td>\n",
       "      <td>12</td>\n",
       "      <td>Afeganistão</td>\n",
       "      <td>VII</td>\n",
       "      <td>Plásticos e suas obras; Borracha e suas obras</td>\n",
       "      <td>1588</td>\n",
       "      <td>8</td>\n",
       "    </tr>\n",
       "    <tr>\n",
       "      <th>9</th>\n",
       "      <td>2023</td>\n",
       "      <td>12</td>\n",
       "      <td>África do Sul</td>\n",
       "      <td>VII</td>\n",
       "      <td>Plásticos e suas obras; Borracha e suas obras</td>\n",
       "      <td>738137</td>\n",
       "      <td>150770</td>\n",
       "    </tr>\n",
       "    <tr>\n",
       "      <th>26</th>\n",
       "      <td>2023</td>\n",
       "      <td>12</td>\n",
       "      <td>Albânia</td>\n",
       "      <td>VII</td>\n",
       "      <td>Plásticos e suas obras; Borracha e suas obras</td>\n",
       "      <td>2276</td>\n",
       "      <td>95</td>\n",
       "    </tr>\n",
       "    <tr>\n",
       "      <th>39</th>\n",
       "      <td>2023</td>\n",
       "      <td>12</td>\n",
       "      <td>Alemanha</td>\n",
       "      <td>VII</td>\n",
       "      <td>Plásticos e suas obras; Borracha e suas obras</td>\n",
       "      <td>4800496</td>\n",
       "      <td>631260</td>\n",
       "    </tr>\n",
       "    <tr>\n",
       "      <th>53</th>\n",
       "      <td>2023</td>\n",
       "      <td>12</td>\n",
       "      <td>Andorra</td>\n",
       "      <td>VII</td>\n",
       "      <td>Plásticos e suas obras; Borracha e suas obras</td>\n",
       "      <td>26</td>\n",
       "      <td>3</td>\n",
       "    </tr>\n",
       "  </tbody>\n",
       "</table>\n",
       "</div>"
      ],
      "text/plain": [
       "     Ano  Mês           País Codigo Seção  \\\n",
       "0   2023   12    Afeganistão          VII   \n",
       "9   2023   12  África do Sul          VII   \n",
       "26  2023   12        Albânia          VII   \n",
       "39  2023   12       Alemanha          VII   \n",
       "53  2023   12        Andorra          VII   \n",
       "\n",
       "                                  Descrição Seção  Valor FOB (US$)  \\\n",
       "0   Plásticos e suas obras; Borracha e suas obras             1588   \n",
       "9   Plásticos e suas obras; Borracha e suas obras           738137   \n",
       "26  Plásticos e suas obras; Borracha e suas obras             2276   \n",
       "39  Plásticos e suas obras; Borracha e suas obras          4800496   \n",
       "53  Plásticos e suas obras; Borracha e suas obras               26   \n",
       "\n",
       "    Quilograma Líquido  \n",
       "0                    8  \n",
       "9               150770  \n",
       "26                  95  \n",
       "39              631260  \n",
       "53                   3  "
      ]
     },
     "execution_count": 3,
     "metadata": {},
     "output_type": "execute_result"
    }
   ],
   "source": [
    "df.head()"
   ]
  },
  {
   "cell_type": "code",
   "execution_count": 4,
   "metadata": {},
   "outputs": [
    {
     "data": {
      "text/plain": [
       "Ano                    int64\n",
       "Mês                    int64\n",
       "País                  object\n",
       "Codigo Seção          object\n",
       "Descrição Seção       object\n",
       "Valor FOB (US$)        int64\n",
       "Quilograma Líquido     int64\n",
       "dtype: object"
      ]
     },
     "execution_count": 4,
     "metadata": {},
     "output_type": "execute_result"
    }
   ],
   "source": [
    "df.dtypes"
   ]
  },
  {
   "cell_type": "code",
   "execution_count": 5,
   "metadata": {},
   "outputs": [
    {
     "data": {
      "text/plain": [
       "Ano                   0\n",
       "Mês                   0\n",
       "País                  0\n",
       "Codigo Seção          0\n",
       "Descrição Seção       0\n",
       "Valor FOB (US$)       0\n",
       "Quilograma Líquido    0\n",
       "dtype: int64"
      ]
     },
     "execution_count": 5,
     "metadata": {},
     "output_type": "execute_result"
    }
   ],
   "source": [
    "#valores nulos\n",
    "df.isnull().sum()"
   ]
  },
  {
   "cell_type": "code",
   "execution_count": 6,
   "metadata": {},
   "outputs": [
    {
     "data": {
      "text/plain": [
       "Ano                      1\n",
       "Mês                     12\n",
       "País                   205\n",
       "Codigo Seção             1\n",
       "Descrição Seção          1\n",
       "Valor FOB (US$)       1723\n",
       "Quilograma Líquido    1439\n",
       "dtype: int64"
      ]
     },
     "execution_count": 6,
     "metadata": {},
     "output_type": "execute_result"
    }
   ],
   "source": [
    "df.nunique()"
   ]
  },
  {
   "cell_type": "code",
   "execution_count": 7,
   "metadata": {},
   "outputs": [
    {
     "data": {
      "text/html": [
       "<div>\n",
       "<style scoped>\n",
       "    .dataframe tbody tr th:only-of-type {\n",
       "        vertical-align: middle;\n",
       "    }\n",
       "\n",
       "    .dataframe tbody tr th {\n",
       "        vertical-align: top;\n",
       "    }\n",
       "\n",
       "    .dataframe thead th {\n",
       "        text-align: right;\n",
       "    }\n",
       "</style>\n",
       "<table border=\"1\" class=\"dataframe\">\n",
       "  <thead>\n",
       "    <tr style=\"text-align: right;\">\n",
       "      <th></th>\n",
       "      <th>Ano</th>\n",
       "      <th>Mês</th>\n",
       "      <th>Valor FOB (US$)</th>\n",
       "      <th>Quilograma Líquido</th>\n",
       "    </tr>\n",
       "  </thead>\n",
       "  <tbody>\n",
       "    <tr>\n",
       "      <th>count</th>\n",
       "      <td>1798.00</td>\n",
       "      <td>1798.00</td>\n",
       "      <td>1798.00</td>\n",
       "      <td>1798.00</td>\n",
       "    </tr>\n",
       "    <tr>\n",
       "      <th>mean</th>\n",
       "      <td>2023.00</td>\n",
       "      <td>6.56</td>\n",
       "      <td>2732415.12</td>\n",
       "      <td>1015685.82</td>\n",
       "    </tr>\n",
       "    <tr>\n",
       "      <th>std</th>\n",
       "      <td>0.00</td>\n",
       "      <td>3.42</td>\n",
       "      <td>10665272.90</td>\n",
       "      <td>3500053.77</td>\n",
       "    </tr>\n",
       "    <tr>\n",
       "      <th>min</th>\n",
       "      <td>2023.00</td>\n",
       "      <td>1.00</td>\n",
       "      <td>0.00</td>\n",
       "      <td>0.00</td>\n",
       "    </tr>\n",
       "    <tr>\n",
       "      <th>25%</th>\n",
       "      <td>2023.00</td>\n",
       "      <td>4.00</td>\n",
       "      <td>3850.25</td>\n",
       "      <td>205.25</td>\n",
       "    </tr>\n",
       "    <tr>\n",
       "      <th>50%</th>\n",
       "      <td>2023.00</td>\n",
       "      <td>7.00</td>\n",
       "      <td>75825.50</td>\n",
       "      <td>17050.50</td>\n",
       "    </tr>\n",
       "    <tr>\n",
       "      <th>75%</th>\n",
       "      <td>2023.00</td>\n",
       "      <td>10.00</td>\n",
       "      <td>731525.75</td>\n",
       "      <td>173566.00</td>\n",
       "    </tr>\n",
       "    <tr>\n",
       "      <th>max</th>\n",
       "      <td>2023.00</td>\n",
       "      <td>12.00</td>\n",
       "      <td>129726001.00</td>\n",
       "      <td>40240084.00</td>\n",
       "    </tr>\n",
       "  </tbody>\n",
       "</table>\n",
       "</div>"
      ],
      "text/plain": [
       "          Ano     Mês  Valor FOB (US$)  Quilograma Líquido\n",
       "count 1798.00 1798.00          1798.00             1798.00\n",
       "mean  2023.00    6.56       2732415.12          1015685.82\n",
       "std      0.00    3.42      10665272.90          3500053.77\n",
       "min   2023.00    1.00             0.00                0.00\n",
       "25%   2023.00    4.00          3850.25              205.25\n",
       "50%   2023.00    7.00         75825.50            17050.50\n",
       "75%   2023.00   10.00        731525.75           173566.00\n",
       "max   2023.00   12.00     129726001.00         40240084.00"
      ]
     },
     "execution_count": 7,
     "metadata": {},
     "output_type": "execute_result"
    }
   ],
   "source": [
    "df.describe()"
   ]
  },
  {
   "cell_type": "code",
   "execution_count": 8,
   "metadata": {},
   "outputs": [
    {
     "data": {
      "text/html": [
       "<div>\n",
       "<style scoped>\n",
       "    .dataframe tbody tr th:only-of-type {\n",
       "        vertical-align: middle;\n",
       "    }\n",
       "\n",
       "    .dataframe tbody tr th {\n",
       "        vertical-align: top;\n",
       "    }\n",
       "\n",
       "    .dataframe thead th {\n",
       "        text-align: right;\n",
       "    }\n",
       "</style>\n",
       "<table border=\"1\" class=\"dataframe\">\n",
       "  <thead>\n",
       "    <tr style=\"text-align: right;\">\n",
       "      <th></th>\n",
       "      <th>Ano</th>\n",
       "      <th>Mês</th>\n",
       "      <th>País</th>\n",
       "      <th>Codigo Seção</th>\n",
       "      <th>Descrição Seção</th>\n",
       "      <th>Valor FOB (US$)</th>\n",
       "      <th>Quilograma Líquido</th>\n",
       "      <th>Data</th>\n",
       "    </tr>\n",
       "  </thead>\n",
       "  <tbody>\n",
       "    <tr>\n",
       "      <th>0</th>\n",
       "      <td>2023</td>\n",
       "      <td>12</td>\n",
       "      <td>Afeganistão</td>\n",
       "      <td>VII</td>\n",
       "      <td>Plásticos e suas obras; Borracha e suas obras</td>\n",
       "      <td>1588</td>\n",
       "      <td>8</td>\n",
       "      <td>2023-12-01</td>\n",
       "    </tr>\n",
       "    <tr>\n",
       "      <th>9</th>\n",
       "      <td>2023</td>\n",
       "      <td>12</td>\n",
       "      <td>África do Sul</td>\n",
       "      <td>VII</td>\n",
       "      <td>Plásticos e suas obras; Borracha e suas obras</td>\n",
       "      <td>738137</td>\n",
       "      <td>150770</td>\n",
       "      <td>2023-12-01</td>\n",
       "    </tr>\n",
       "    <tr>\n",
       "      <th>26</th>\n",
       "      <td>2023</td>\n",
       "      <td>12</td>\n",
       "      <td>Albânia</td>\n",
       "      <td>VII</td>\n",
       "      <td>Plásticos e suas obras; Borracha e suas obras</td>\n",
       "      <td>2276</td>\n",
       "      <td>95</td>\n",
       "      <td>2023-12-01</td>\n",
       "    </tr>\n",
       "    <tr>\n",
       "      <th>39</th>\n",
       "      <td>2023</td>\n",
       "      <td>12</td>\n",
       "      <td>Alemanha</td>\n",
       "      <td>VII</td>\n",
       "      <td>Plásticos e suas obras; Borracha e suas obras</td>\n",
       "      <td>4800496</td>\n",
       "      <td>631260</td>\n",
       "      <td>2023-12-01</td>\n",
       "    </tr>\n",
       "    <tr>\n",
       "      <th>53</th>\n",
       "      <td>2023</td>\n",
       "      <td>12</td>\n",
       "      <td>Andorra</td>\n",
       "      <td>VII</td>\n",
       "      <td>Plásticos e suas obras; Borracha e suas obras</td>\n",
       "      <td>26</td>\n",
       "      <td>3</td>\n",
       "      <td>2023-12-01</td>\n",
       "    </tr>\n",
       "  </tbody>\n",
       "</table>\n",
       "</div>"
      ],
      "text/plain": [
       "     Ano  Mês           País Codigo Seção  \\\n",
       "0   2023   12    Afeganistão          VII   \n",
       "9   2023   12  África do Sul          VII   \n",
       "26  2023   12        Albânia          VII   \n",
       "39  2023   12       Alemanha          VII   \n",
       "53  2023   12        Andorra          VII   \n",
       "\n",
       "                                  Descrição Seção  Valor FOB (US$)  \\\n",
       "0   Plásticos e suas obras; Borracha e suas obras             1588   \n",
       "9   Plásticos e suas obras; Borracha e suas obras           738137   \n",
       "26  Plásticos e suas obras; Borracha e suas obras             2276   \n",
       "39  Plásticos e suas obras; Borracha e suas obras          4800496   \n",
       "53  Plásticos e suas obras; Borracha e suas obras               26   \n",
       "\n",
       "    Quilograma Líquido       Data  \n",
       "0                    8 2023-12-01  \n",
       "9               150770 2023-12-01  \n",
       "26                  95 2023-12-01  \n",
       "39              631260 2023-12-01  \n",
       "53                   3 2023-12-01  "
      ]
     },
     "execution_count": 8,
     "metadata": {},
     "output_type": "execute_result"
    }
   ],
   "source": [
    "## Transformando coluna de data pra serie temporal\n",
    "df['Data'] = df['Ano'].astype('str') + '-' + df['Mês'].astype('str') + '-1'\n",
    "df['Data'] = pd.to_datetime(df['Data'])\n",
    "df.head()"
   ]
  },
  {
   "cell_type": "code",
   "execution_count": 9,
   "metadata": {},
   "outputs": [
    {
     "data": {
      "text/plain": [
       "Ano                            int64\n",
       "Mês                            int64\n",
       "País                          object\n",
       "Codigo Seção                  object\n",
       "Descrição Seção               object\n",
       "Valor FOB (US$)                int64\n",
       "Quilograma Líquido             int64\n",
       "Data                  datetime64[ns]\n",
       "dtype: object"
      ]
     },
     "execution_count": 9,
     "metadata": {},
     "output_type": "execute_result"
    }
   ],
   "source": [
    "df.dtypes"
   ]
  },
  {
   "cell_type": "code",
   "execution_count": 10,
   "metadata": {},
   "outputs": [],
   "source": [
    "## Vendas por país\n",
    "total = df['Valor FOB (US$)'].sum()\n",
    "anl_pais = df.groupby(by = ['País']).agg(df=('Valor FOB (US$)','sum'))\n",
    "anl_pais.rename(columns={\"df\":\"Valor FOB (US$)\"},inplace=True)\n",
    "anl_pais = anl_pais.sort_values(by='Valor FOB (US$)', ascending=False).reset_index()\n",
    "anl_pais['Percentual'] = (anl_pais['Valor FOB (US$)'] / total) * 100\n",
    "anl_pais['Percentual'] = round(anl_pais['Percentual'] ,0)\n",
    "anl_pais['Percentual'] =  anl_pais['Percentual'].astype('str') + '%'\n",
    "anl_pais = anl_pais.head(15)"
   ]
  },
  {
   "cell_type": "code",
   "execution_count": 11,
   "metadata": {},
   "outputs": [
    {
     "data": {
      "text/html": [
       "<div>\n",
       "<style scoped>\n",
       "    .dataframe tbody tr th:only-of-type {\n",
       "        vertical-align: middle;\n",
       "    }\n",
       "\n",
       "    .dataframe tbody tr th {\n",
       "        vertical-align: top;\n",
       "    }\n",
       "\n",
       "    .dataframe thead th {\n",
       "        text-align: right;\n",
       "    }\n",
       "</style>\n",
       "<table border=\"1\" class=\"dataframe\">\n",
       "  <thead>\n",
       "    <tr style=\"text-align: right;\">\n",
       "      <th></th>\n",
       "      <th>País</th>\n",
       "      <th>Valor FOB (US$)</th>\n",
       "      <th>Percentual</th>\n",
       "    </tr>\n",
       "  </thead>\n",
       "  <tbody>\n",
       "    <tr>\n",
       "      <th>0</th>\n",
       "      <td>Argentina</td>\n",
       "      <td>1235898534</td>\n",
       "      <td>25.0%</td>\n",
       "    </tr>\n",
       "    <tr>\n",
       "      <th>1</th>\n",
       "      <td>Estados Unidos</td>\n",
       "      <td>682043303</td>\n",
       "      <td>14.0%</td>\n",
       "    </tr>\n",
       "    <tr>\n",
       "      <th>2</th>\n",
       "      <td>Chile</td>\n",
       "      <td>368847379</td>\n",
       "      <td>8.0%</td>\n",
       "    </tr>\n",
       "    <tr>\n",
       "      <th>3</th>\n",
       "      <td>México</td>\n",
       "      <td>321639554</td>\n",
       "      <td>7.0%</td>\n",
       "    </tr>\n",
       "    <tr>\n",
       "      <th>4</th>\n",
       "      <td>Paraguai</td>\n",
       "      <td>288639363</td>\n",
       "      <td>6.0%</td>\n",
       "    </tr>\n",
       "    <tr>\n",
       "      <th>5</th>\n",
       "      <td>Colômbia</td>\n",
       "      <td>266188767</td>\n",
       "      <td>5.0%</td>\n",
       "    </tr>\n",
       "    <tr>\n",
       "      <th>6</th>\n",
       "      <td>Peru</td>\n",
       "      <td>169248781</td>\n",
       "      <td>3.0%</td>\n",
       "    </tr>\n",
       "    <tr>\n",
       "      <th>7</th>\n",
       "      <td>China</td>\n",
       "      <td>162660501</td>\n",
       "      <td>3.0%</td>\n",
       "    </tr>\n",
       "    <tr>\n",
       "      <th>8</th>\n",
       "      <td>Uruguai</td>\n",
       "      <td>158219628</td>\n",
       "      <td>3.0%</td>\n",
       "    </tr>\n",
       "    <tr>\n",
       "      <th>9</th>\n",
       "      <td>Bolívia</td>\n",
       "      <td>157599009</td>\n",
       "      <td>3.0%</td>\n",
       "    </tr>\n",
       "    <tr>\n",
       "      <th>10</th>\n",
       "      <td>Bélgica</td>\n",
       "      <td>143504133</td>\n",
       "      <td>3.0%</td>\n",
       "    </tr>\n",
       "    <tr>\n",
       "      <th>11</th>\n",
       "      <td>Equador</td>\n",
       "      <td>94145006</td>\n",
       "      <td>2.0%</td>\n",
       "    </tr>\n",
       "    <tr>\n",
       "      <th>12</th>\n",
       "      <td>Japão</td>\n",
       "      <td>85375690</td>\n",
       "      <td>2.0%</td>\n",
       "    </tr>\n",
       "    <tr>\n",
       "      <th>13</th>\n",
       "      <td>Alemanha</td>\n",
       "      <td>51216771</td>\n",
       "      <td>1.0%</td>\n",
       "    </tr>\n",
       "    <tr>\n",
       "      <th>14</th>\n",
       "      <td>Espanha</td>\n",
       "      <td>50938052</td>\n",
       "      <td>1.0%</td>\n",
       "    </tr>\n",
       "  </tbody>\n",
       "</table>\n",
       "</div>"
      ],
      "text/plain": [
       "              País  Valor FOB (US$) Percentual\n",
       "0        Argentina       1235898534      25.0%\n",
       "1   Estados Unidos        682043303      14.0%\n",
       "2            Chile        368847379       8.0%\n",
       "3           México        321639554       7.0%\n",
       "4         Paraguai        288639363       6.0%\n",
       "5         Colômbia        266188767       5.0%\n",
       "6             Peru        169248781       3.0%\n",
       "7            China        162660501       3.0%\n",
       "8          Uruguai        158219628       3.0%\n",
       "9          Bolívia        157599009       3.0%\n",
       "10         Bélgica        143504133       3.0%\n",
       "11         Equador         94145006       2.0%\n",
       "12           Japão         85375690       2.0%\n",
       "13        Alemanha         51216771       1.0%\n",
       "14         Espanha         50938052       1.0%"
      ]
     },
     "execution_count": 11,
     "metadata": {},
     "output_type": "execute_result"
    },
    {
     "data": {
      "image/png": "[encoded data removed]",
      "text/plain": [
       "<Figure size 1500x500 with 2 Axes>"
      ]
     },
     "metadata": {},
     "output_type": "display_data"
    }
   ],
   "source": [
    "#plot Vendas por país com dois eixos Y\n",
    "plt.figure(figsize=(15,5))\n",
    "plt.title('Top 15 exportações por País')\n",
    "\n",
    "ax1 = sns.barplot(data=anl_pais,y='País',x='Valor FOB (US$)',orient=\"y\")\n",
    "ax2 = ax1.twinx()\n",
    "#sns.lineplot(data=anl_pais,y='País',x='Percentual',orient=\"y\")\n",
    "anl_pais"
   ]
  },
  {
   "cell_type": "markdown",
   "metadata": {},
   "source": [
    "#### serie temporal"
   ]
  },
  {
   "cell_type": "code",
   "execution_count": 12,
   "metadata": {},
   "outputs": [
    {
     "data": {
      "text/plain": [
       "<Axes: title={'center': 'Serie Geral'}, xlabel='Data', ylabel='Valor FOB (US$)'>"
      ]
     },
     "execution_count": 12,
     "metadata": {},
     "output_type": "execute_result"
    },
    {
     "data": {
      "image/png": "[encoded data removed]",
      "text/plain": [
       "<Figure size 1500x500 with 1 Axes>"
      ]
     },
     "metadata": {},
     "output_type": "display_data"
    }
   ],
   "source": [
    "plt.figure(figsize=(15,5))\n",
    "plt.title('Serie Geral')\n",
    "sns.lineplot(data=df,y='Valor FOB (US$)',x='Data')"
   ]
  },
  {
   "cell_type": "code",
   "execution_count": 17,
   "metadata": {},
   "outputs": [
    {
     "data": {
      "application/vnd.plotly.v1+json": {
       "config": {
        "plotlyServerURL": "https://plot.ly"
       },
       "data": [
        {
         "hovertemplate": "Data=%{x}<br>Valor FOB (US$)=%{y}<extra></extra>",
         "legendgroup": "",
         "line": {
          "color": "#636efa",
          "dash": "solid"
         },
         "marker": {
          "symbol": "circle"
         },
         "mode": "lines",
         "name": "",
         "orientation": "v",
         "showlegend": false,
         "type": "scatter",
         "x": [
          "2023-12-01T00:00:00",
          "2023-11-01T00:00:00",
          "2023-10-01T00:00:00",
          "2023-09-01T00:00:00",
          "2023-08-01T00:00:00",
          "2023-07-01T00:00:00",
          "2023-06-01T00:00:00",
          "2023-05-01T00:00:00",
          "2023-04-01T00:00:00",
          "2023-03-01T00:00:00",
          "2023-02-01T00:00:00",
          "2023-01-01T00:00:00"
         ],
         "xaxis": "x",
         "y": [
          77929977,
          81377580,
          103772988,
          96814018,
          115717317,
          115837749,
          111835711,
          129726001,
          115635071,
          122139417,
          83767497,
          81345208
         ],
         "yaxis": "y"
        },
        {
         "hovertemplate": "Data=%{x}<br>Valor FOB (US$)=%{y}<extra></extra>",
         "legendgroup": "",
         "line": {
          "color": "#636efa",
          "dash": "solid"
         },
         "marker": {
          "symbol": "circle"
         },
         "mode": "lines",
         "name": "",
         "orientation": "v",
         "showlegend": false,
         "type": "scatter",
         "x": [
          "2023-12-01T00:00:00",
          "2023-11-01T00:00:00",
          "2023-10-01T00:00:00",
          "2023-09-01T00:00:00",
          "2023-08-01T00:00:00",
          "2023-07-01T00:00:00",
          "2023-06-01T00:00:00",
          "2023-05-01T00:00:00",
          "2023-04-01T00:00:00",
          "2023-03-01T00:00:00",
          "2023-02-01T00:00:00",
          "2023-01-01T00:00:00"
         ],
         "xaxis": "x2",
         "y": [
          53778718,
          50999008,
          51733028,
          44683538,
          58989416,
          58371708,
          48190622,
          58693749,
          68336590,
          66208010,
          61634906,
          60424010
         ],
         "yaxis": "y2"
        },
        {
         "hovertemplate": "Data=%{x}<br>Valor FOB (US$)=%{y}<extra></extra>",
         "legendgroup": "",
         "line": {
          "color": "#636efa",
          "dash": "solid"
         },
         "marker": {
          "symbol": "circle"
         },
         "mode": "lines",
         "name": "",
         "orientation": "v",
         "showlegend": false,
         "type": "scatter",
         "x": [
          "2023-12-01T00:00:00",
          "2023-11-01T00:00:00",
          "2023-10-01T00:00:00",
          "2023-09-01T00:00:00",
          "2023-08-01T00:00:00",
          "2023-07-01T00:00:00",
          "2023-06-01T00:00:00",
          "2023-05-01T00:00:00",
          "2023-04-01T00:00:00",
          "2023-03-01T00:00:00",
          "2023-02-01T00:00:00",
          "2023-01-01T00:00:00"
         ],
         "xaxis": "x3",
         "y": [
          32494772,
          30698292,
          31976538,
          27404268,
          31447689,
          28242016,
          25993521,
          33054736,
          34551016,
          34957357,
          29342501,
          28684673
         ],
         "yaxis": "y3"
        },
        {
         "hovertemplate": "Data=%{x}<br>Valor FOB (US$)=%{y}<extra></extra>",
         "legendgroup": "",
         "line": {
          "color": "#636efa",
          "dash": "solid"
         },
         "marker": {
          "symbol": "circle"
         },
         "mode": "lines",
         "name": "",
         "orientation": "v",
         "showlegend": false,
         "type": "scatter",
         "x": [
          "2023-12-01T00:00:00",
          "2023-11-01T00:00:00",
          "2023-10-01T00:00:00",
          "2023-09-01T00:00:00",
          "2023-08-01T00:00:00",
          "2023-07-01T00:00:00",
          "2023-06-01T00:00:00",
          "2023-05-01T00:00:00",
          "2023-04-01T00:00:00",
          "2023-03-01T00:00:00",
          "2023-02-01T00:00:00",
          "2023-01-01T00:00:00"
         ],
         "xaxis": "x4",
         "y": [
          27328180,
          31014148,
          37750160,
          24436190,
          29679878,
          22240274,
          22416075,
          32261377,
          22066585,
          25515731,
          25444526,
          21486430
         ],
         "yaxis": "y4"
        },
        {
         "hovertemplate": "Data=%{x}<br>Valor FOB (US$)=%{y}<extra></extra>",
         "legendgroup": "",
         "line": {
          "color": "#636efa",
          "dash": "solid"
         },
         "marker": {
          "symbol": "circle"
         },
         "mode": "lines",
         "name": "",
         "orientation": "v",
         "showlegend": false,
         "type": "scatter",
         "x": [
          "2023-12-01T00:00:00",
          "2023-11-01T00:00:00",
          "2023-10-01T00:00:00",
          "2023-09-01T00:00:00",
          "2023-08-01T00:00:00",
          "2023-07-01T00:00:00",
          "2023-06-01T00:00:00",
          "2023-05-01T00:00:00",
          "2023-04-01T00:00:00",
          "2023-03-01T00:00:00",
          "2023-02-01T00:00:00",
          "2023-01-01T00:00:00"
         ],
         "xaxis": "x5",
         "y": [
          22645007,
          25162259,
          27738881,
          24394481,
          23638927,
          27411981,
          22528567,
          24914814,
          20535413,
          26751086,
          22059492,
          20858455
         ],
         "yaxis": "y5"
        },
        {
         "hovertemplate": "Data=%{x}<br>Valor FOB (US$)=%{y}<extra></extra>",
         "legendgroup": "",
         "line": {
          "color": "#636efa",
          "dash": "solid"
         },
         "marker": {
          "symbol": "circle"
         },
         "mode": "lines",
         "name": "",
         "orientation": "v",
         "showlegend": false,
         "type": "scatter",
         "x": [
          "2023-12-01T00:00:00",
          "2023-11-01T00:00:00",
          "2023-10-01T00:00:00",
          "2023-09-01T00:00:00",
          "2023-08-01T00:00:00",
          "2023-07-01T00:00:00",
          "2023-06-01T00:00:00",
          "2023-05-01T00:00:00",
          "2023-04-01T00:00:00",
          "2023-03-01T00:00:00",
          "2023-02-01T00:00:00",
          "2023-01-01T00:00:00"
         ],
         "xaxis": "x6",
         "y": [
          20018732,
          22917884,
          22577683,
          18178543,
          27210812,
          19840140,
          23397233,
          22138699,
          20289105,
          25269158,
          22920712,
          21430066
         ],
         "yaxis": "y6"
        },
        {
         "hovertemplate": "Data=%{x}<br>Valor FOB (US$)=%{y}<extra></extra>",
         "legendgroup": "",
         "line": {
          "color": "#636efa",
          "dash": "solid"
         },
         "marker": {
          "symbol": "circle"
         },
         "mode": "lines",
         "name": "",
         "orientation": "v",
         "showlegend": false,
         "type": "scatter",
         "x": [
          "2023-12-01T00:00:00",
          "2023-11-01T00:00:00",
          "2023-10-01T00:00:00",
          "2023-09-01T00:00:00",
          "2023-08-01T00:00:00",
          "2023-07-01T00:00:00",
          "2023-06-01T00:00:00",
          "2023-05-01T00:00:00",
          "2023-04-01T00:00:00",
          "2023-03-01T00:00:00",
          "2023-02-01T00:00:00",
          "2023-01-01T00:00:00"
         ],
         "xaxis": "x7",
         "y": [
          15487729,
          13950744,
          17620973,
          10997326,
          15954220,
          13744992,
          13808851,
          14145019,
          17141935,
          14265254,
          9838759,
          12292979
         ],
         "yaxis": "y7"
        },
        {
         "hovertemplate": "Data=%{x}<br>Valor FOB (US$)=%{y}<extra></extra>",
         "legendgroup": "",
         "line": {
          "color": "#636efa",
          "dash": "solid"
         },
         "marker": {
          "symbol": "circle"
         },
         "mode": "lines",
         "name": "",
         "orientation": "v",
         "showlegend": false,
         "type": "scatter",
         "x": [
          "2023-12-01T00:00:00",
          "2023-11-01T00:00:00",
          "2023-10-01T00:00:00",
          "2023-09-01T00:00:00",
          "2023-08-01T00:00:00",
          "2023-07-01T00:00:00",
          "2023-06-01T00:00:00",
          "2023-05-01T00:00:00",
          "2023-04-01T00:00:00",
          "2023-03-01T00:00:00",
          "2023-02-01T00:00:00",
          "2023-01-01T00:00:00"
         ],
         "xaxis": "x8",
         "y": [
          12515671,
          12677056,
          11507942,
          9225029,
          11384893,
          18686982,
          16833733,
          16943833,
          14266732,
          10643321,
          6784791,
          21190518
         ],
         "yaxis": "y8"
        },
        {
         "hovertemplate": "Data=%{x}<br>Valor FOB (US$)=%{y}<extra></extra>",
         "legendgroup": "",
         "line": {
          "color": "#636efa",
          "dash": "solid"
         },
         "marker": {
          "symbol": "circle"
         },
         "mode": "lines",
         "name": "",
         "orientation": "v",
         "showlegend": false,
         "type": "scatter",
         "x": [
          "2023-12-01T00:00:00",
          "2023-11-01T00:00:00",
          "2023-10-01T00:00:00",
          "2023-09-01T00:00:00",
          "2023-08-01T00:00:00",
          "2023-07-01T00:00:00",
          "2023-06-01T00:00:00",
          "2023-05-01T00:00:00",
          "2023-04-01T00:00:00",
          "2023-03-01T00:00:00",
          "2023-02-01T00:00:00",
          "2023-01-01T00:00:00"
         ],
         "xaxis": "x9",
         "y": [
          13985977,
          13895799,
          14501037,
          12704209,
          14215103,
          13194418,
          13719185,
          13944903,
          10685231,
          13592476,
          11707308,
          12073982
         ],
         "yaxis": "y9"
        },
        {
         "hovertemplate": "Data=%{x}<br>Valor FOB (US$)=%{y}<extra></extra>",
         "legendgroup": "",
         "line": {
          "color": "#636efa",
          "dash": "solid"
         },
         "marker": {
          "symbol": "circle"
         },
         "mode": "lines",
         "name": "",
         "orientation": "v",
         "showlegend": false,
         "type": "scatter",
         "x": [
          "2023-12-01T00:00:00",
          "2023-11-01T00:00:00",
          "2023-10-01T00:00:00",
          "2023-09-01T00:00:00",
          "2023-08-01T00:00:00",
          "2023-07-01T00:00:00",
          "2023-06-01T00:00:00",
          "2023-05-01T00:00:00",
          "2023-04-01T00:00:00",
          "2023-03-01T00:00:00",
          "2023-02-01T00:00:00",
          "2023-01-01T00:00:00"
         ],
         "xaxis": "x10",
         "y": [
          12457125,
          12441318,
          12912396,
          10661575,
          12506250,
          12799740,
          13648525,
          12764465,
          13376020,
          17043840,
          11230560,
          15757195
         ],
         "yaxis": "y10"
        },
        {
         "hovertemplate": "Data=%{x}<br>Valor FOB (US$)=%{y}<extra></extra>",
         "legendgroup": "",
         "line": {
          "color": "#636efa",
          "dash": "solid"
         },
         "marker": {
          "symbol": "circle"
         },
         "mode": "lines",
         "name": "",
         "orientation": "v",
         "showlegend": false,
         "type": "scatter",
         "x": [
          "2023-12-01T00:00:00",
          "2023-11-01T00:00:00",
          "2023-10-01T00:00:00",
          "2023-09-01T00:00:00",
          "2023-08-01T00:00:00",
          "2023-07-01T00:00:00",
          "2023-06-01T00:00:00",
          "2023-05-01T00:00:00",
          "2023-04-01T00:00:00",
          "2023-03-01T00:00:00",
          "2023-02-01T00:00:00",
          "2023-01-01T00:00:00"
         ],
         "xaxis": "x11",
         "y": [
          9760719,
          9152396,
          15394793,
          7618019,
          14366636,
          15046995,
          15096811,
          11850843,
          10582135,
          12924066,
          11301692,
          10409028
         ],
         "yaxis": "y11"
        },
        {
         "hovertemplate": "Data=%{x}<br>Valor FOB (US$)=%{y}<extra></extra>",
         "legendgroup": "",
         "line": {
          "color": "#636efa",
          "dash": "solid"
         },
         "marker": {
          "symbol": "circle"
         },
         "mode": "lines",
         "name": "",
         "orientation": "v",
         "showlegend": false,
         "type": "scatter",
         "x": [
          "2023-12-01T00:00:00",
          "2023-11-01T00:00:00",
          "2023-10-01T00:00:00",
          "2023-09-01T00:00:00",
          "2023-08-01T00:00:00",
          "2023-07-01T00:00:00",
          "2023-06-01T00:00:00",
          "2023-05-01T00:00:00",
          "2023-04-01T00:00:00",
          "2023-03-01T00:00:00",
          "2023-02-01T00:00:00",
          "2023-01-01T00:00:00"
         ],
         "xaxis": "x12",
         "y": [
          7389257,
          6558538,
          8766891,
          9687417,
          7927985,
          8433534,
          6609829,
          7961227,
          6950103,
          8920557,
          8123412,
          6816256
         ],
         "yaxis": "y12"
        },
        {
         "hovertemplate": "Data=%{x}<br>Valor FOB (US$)=%{y}<extra></extra>",
         "legendgroup": "",
         "line": {
          "color": "#636efa",
          "dash": "solid"
         },
         "marker": {
          "symbol": "circle"
         },
         "mode": "lines",
         "name": "",
         "orientation": "v",
         "showlegend": false,
         "type": "scatter",
         "x": [
          "2023-12-01T00:00:00",
          "2023-11-01T00:00:00",
          "2023-10-01T00:00:00",
          "2023-09-01T00:00:00",
          "2023-08-01T00:00:00",
          "2023-07-01T00:00:00",
          "2023-06-01T00:00:00",
          "2023-05-01T00:00:00",
          "2023-04-01T00:00:00",
          "2023-03-01T00:00:00",
          "2023-02-01T00:00:00",
          "2023-01-01T00:00:00"
         ],
         "xaxis": "x13",
         "y": [
          11169691,
          8003703,
          7763500,
          6949716,
          10731787,
          9862137,
          5516538,
          3053310,
          4145823,
          6774411,
          4007102,
          7397972
         ],
         "yaxis": "y13"
        },
        {
         "hovertemplate": "Data=%{x}<br>Valor FOB (US$)=%{y}<extra></extra>",
         "legendgroup": "",
         "line": {
          "color": "#636efa",
          "dash": "solid"
         },
         "marker": {
          "symbol": "circle"
         },
         "mode": "lines",
         "name": "",
         "orientation": "v",
         "showlegend": false,
         "type": "scatter",
         "x": [
          "2023-12-01T00:00:00",
          "2023-11-01T00:00:00",
          "2023-10-01T00:00:00",
          "2023-09-01T00:00:00",
          "2023-08-01T00:00:00",
          "2023-07-01T00:00:00",
          "2023-06-01T00:00:00",
          "2023-05-01T00:00:00",
          "2023-04-01T00:00:00",
          "2023-03-01T00:00:00",
          "2023-02-01T00:00:00",
          "2023-01-01T00:00:00"
         ],
         "xaxis": "x14",
         "y": [
          4800496,
          4808626,
          4382723,
          4926455,
          3590791,
          3439701,
          3868103,
          5440630,
          3651179,
          3154031,
          5181188,
          3972848
         ],
         "yaxis": "y14"
        },
        {
         "hovertemplate": "Data=%{x}<br>Valor FOB (US$)=%{y}<extra></extra>",
         "legendgroup": "",
         "line": {
          "color": "#636efa",
          "dash": "solid"
         },
         "marker": {
          "symbol": "circle"
         },
         "mode": "lines",
         "name": "",
         "orientation": "v",
         "showlegend": false,
         "type": "scatter",
         "x": [
          "2023-12-01T00:00:00",
          "2023-11-01T00:00:00",
          "2023-10-01T00:00:00",
          "2023-09-01T00:00:00",
          "2023-08-01T00:00:00",
          "2023-07-01T00:00:00",
          "2023-06-01T00:00:00",
          "2023-05-01T00:00:00",
          "2023-04-01T00:00:00",
          "2023-03-01T00:00:00",
          "2023-02-01T00:00:00",
          "2023-01-01T00:00:00"
         ],
         "xaxis": "x15",
         "y": [
          2471292,
          4929948,
          5691967,
          3482288,
          5138611,
          3916957,
          3613974,
          4931642,
          3711597,
          7003718,
          3104263,
          2941795
         ],
         "yaxis": "y15"
        }
       ],
       "layout": {
        "annotations": [
         {
          "font": {
           "size": 16
          },
          "showarrow": false,
          "text": "Argentina",
          "x": 0.14444444444444446,
          "xanchor": "center",
          "xref": "paper",
          "y": 1,
          "yanchor": "bottom",
          "yref": "paper"
         },
         {
          "font": {
           "size": 16
          },
          "showarrow": false,
          "text": "Estados Unidos",
          "x": 0.5,
          "xanchor": "center",
          "xref": "paper",
          "y": 1,
          "yanchor": "bottom",
          "yref": "paper"
         },
         {
          "font": {
           "size": 16
          },
          "showarrow": false,
          "text": "Chile",
          "x": 0.8555555555555556,
          "xanchor": "center",
          "xref": "paper",
          "y": 1,
          "yanchor": "bottom",
          "yref": "paper"
         },
         {
          "font": {
           "size": 16
          },
          "showarrow": false,
          "text": "México",
          "x": 0.14444444444444446,
          "xanchor": "center",
          "xref": "paper",
          "y": 0.78,
          "yanchor": "bottom",
          "yref": "paper"
         },
         {
          "font": {
           "size": 16
          },
          "showarrow": false,
          "text": "Paraguai",
          "x": 0.5,
          "xanchor": "center",
          "xref": "paper",
          "y": 0.78,
          "yanchor": "bottom",
          "yref": "paper"
         },
         {
          "font": {
           "size": 16
          },
          "showarrow": false,
          "text": "Colômbia",
          "x": 0.8555555555555556,
          "xanchor": "center",
          "xref": "paper",
          "y": 0.78,
          "yanchor": "bottom",
          "yref": "paper"
         },
         {
          "font": {
           "size": 16
          },
          "showarrow": false,
          "text": "Peru",
          "x": 0.14444444444444446,
          "xanchor": "center",
          "xref": "paper",
          "y": 0.56,
          "yanchor": "bottom",
          "yref": "paper"
         },
         {
          "font": {
           "size": 16
          },
          "showarrow": false,
          "text": "China",
          "x": 0.5,
          "xanchor": "center",
          "xref": "paper",
          "y": 0.56,
          "yanchor": "bottom",
          "yref": "paper"
         },
         {
          "font": {
           "size": 16
          },
          "showarrow": false,
          "text": "Uruguai",
          "x": 0.8555555555555556,
          "xanchor": "center",
          "xref": "paper",
          "y": 0.56,
          "yanchor": "bottom",
          "yref": "paper"
         },
         {
          "font": {
           "size": 16
          },
          "showarrow": false,
          "text": "Bolívia",
          "x": 0.14444444444444446,
          "xanchor": "center",
          "xref": "paper",
          "y": 0.33999999999999997,
          "yanchor": "bottom",
          "yref": "paper"
         },
         {
          "font": {
           "size": 16
          },
          "showarrow": false,
          "text": "Bélgica",
          "x": 0.5,
          "xanchor": "center",
          "xref": "paper",
          "y": 0.33999999999999997,
          "yanchor": "bottom",
          "yref": "paper"
         },
         {
          "font": {
           "size": 16
          },
          "showarrow": false,
          "text": "Equador",
          "x": 0.8555555555555556,
          "xanchor": "center",
          "xref": "paper",
          "y": 0.33999999999999997,
          "yanchor": "bottom",
          "yref": "paper"
         },
         {
          "font": {
           "size": 16
          },
          "showarrow": false,
          "text": "Japão",
          "x": 0.14444444444444446,
          "xanchor": "center",
          "xref": "paper",
          "y": 0.12,
          "yanchor": "bottom",
          "yref": "paper"
         },
         {
          "font": {
           "size": 16
          },
          "showarrow": false,
          "text": "Alemanha",
          "x": 0.5,
          "xanchor": "center",
          "xref": "paper",
          "y": 0.12,
          "yanchor": "bottom",
          "yref": "paper"
         },
         {
          "font": {
           "size": 16
          },
          "showarrow": false,
          "text": "Espanha",
          "x": 0.8555555555555556,
          "xanchor": "center",
          "xref": "paper",
          "y": 0.12,
          "yanchor": "bottom",
          "yref": "paper"
         }
        ],
        "height": 800,
        "template": {
         "data": {
          "bar": [
           {
            "error_x": {
             "color": "#2a3f5f"
            },
            "error_y": {
             "color": "#2a3f5f"
            },
            "marker": {
             "line": {
              "color": "#E5ECF6",
              "width": 0.5
             },
             "pattern": {
              "fillmode": "overlay",
              "size": 10,
              "solidity": 0.2
             }
            },
            "type": "bar"
           }
          ],
          "barpolar": [
           {
            "marker": {
             "line": {
              "color": "#E5ECF6",
              "width": 0.5
             },
             "pattern": {
              "fillmode": "overlay",
              "size": 10,
              "solidity": 0.2
             }
            },
            "type": "barpolar"
           }
          ],
          "carpet": [
           {
            "aaxis": {
             "endlinecolor": "#2a3f5f",
             "gridcolor": "white",
             "linecolor": "white",
             "minorgridcolor": "white",
             "startlinecolor": "#2a3f5f"
            },
            "baxis": {
             "endlinecolor": "#2a3f5f",
             "gridcolor": "white",
             "linecolor": "white",
             "minorgridcolor": "white",
             "startlinecolor": "#2a3f5f"
            },
            "type": "carpet"
           }
          ],
          "choropleth": [
           {
            "colorbar": {
             "outlinewidth": 0,
             "ticks": ""
            },
            "type": "choropleth"
           }
          ],
          "contour": [
           {
            "colorbar": {
             "outlinewidth": 0,
             "ticks": ""
            },
            "colorscale": [
             [
              0,
              "#0d0887"
             ],
             [
              0.1111111111111111,
              "#46039f"
             ],
             [
              0.2222222222222222,
              "#7201a8"
             ],
             [
              0.3333333333333333,
              "#9c179e"
             ],
             [
              0.4444444444444444,
              "#bd3786"
             ],
             [
              0.5555555555555556,
              "#d8576b"
             ],
             [
              0.6666666666666666,
              "#ed7953"
             ],
             [
              0.7777777777777778,
              "#fb9f3a"
             ],
             [
              0.8888888888888888,
              "#fdca26"
             ],
             [
              1,
              "#f0f921"
             ]
            ],
            "type": "contour"
           }
          ],
          "contourcarpet": [
           {
            "colorbar": {
             "outlinewidth": 0,
             "ticks": ""
            },
            "type": "contourcarpet"
           }
          ],
          "heatmap": [
           {
            "colorbar": {
             "outlinewidth": 0,
             "ticks": ""
            },
            "colorscale": [
             [
              0,
              "#0d0887"
             ],
             [
              0.1111111111111111,
              "#46039f"
             ],
             [
              0.2222222222222222,
              "#7201a8"
             ],
             [
              0.3333333333333333,
              "#9c179e"
             ],
             [
              0.4444444444444444,
              "#bd3786"
             ],
             [
              0.5555555555555556,
              "#d8576b"
             ],
             [
              0.6666666666666666,
              "#ed7953"
             ],
             [
              0.7777777777777778,
              "#fb9f3a"
             ],
             [
              0.8888888888888888,
              "#fdca26"
             ],
             [
              1,
              "#f0f921"
             ]
            ],
            "type": "heatmap"
           }
          ],
          "heatmapgl": [
           {
            "colorbar": {
             "outlinewidth": 0,
             "ticks": ""
            },
            "colorscale": [
             [
              0,
              "#0d0887"
             ],
             [
              0.1111111111111111,
              "#46039f"
             ],
             [
              0.2222222222222222,
              "#7201a8"
             ],
             [
              0.3333333333333333,
              "#9c179e"
             ],
             [
              0.4444444444444444,
              "#bd3786"
             ],
             [
              0.5555555555555556,
              "#d8576b"
             ],
             [
              0.6666666666666666,
              "#ed7953"
             ],
             [
              0.7777777777777778,
              "#fb9f3a"
             ],
             [
              0.8888888888888888,
              "#fdca26"
             ],
             [
              1,
              "#f0f921"
             ]
            ],
            "type": "heatmapgl"
           }
          ],
          "histogram": [
           {
            "marker": {
             "pattern": {
              "fillmode": "overlay",
              "size": 10,
              "solidity": 0.2
             }
            },
            "type": "histogram"
           }
          ],
          "histogram2d": [
           {
            "colorbar": {
             "outlinewidth": 0,
             "ticks": ""
            },
            "colorscale": [
             [
              0,
              "#0d0887"
             ],
             [
              0.1111111111111111,
              "#46039f"
             ],
             [
              0.2222222222222222,
              "#7201a8"
             ],
             [
              0.3333333333333333,
              "#9c179e"
             ],
             [
              0.4444444444444444,
              "#bd3786"
             ],
             [
              0.5555555555555556,
              "#d8576b"
             ],
             [
              0.6666666666666666,
              "#ed7953"
             ],
             [
              0.7777777777777778,
              "#fb9f3a"
             ],
             [
              0.8888888888888888,
              "#fdca26"
             ],
             [
              1,
              "#f0f921"
             ]
            ],
            "type": "histogram2d"
           }
          ],
          "histogram2dcontour": [
           {
            "colorbar": {
             "outlinewidth": 0,
             "ticks": ""
            },
            "colorscale": [
             [
              0,
              "#0d0887"
             ],
             [
              0.1111111111111111,
              "#46039f"
             ],
             [
              0.2222222222222222,
              "#7201a8"
             ],
             [
              0.3333333333333333,
              "#9c179e"
             ],
             [
              0.4444444444444444,
              "#bd3786"
             ],
             [
              0.5555555555555556,
              "#d8576b"
             ],
             [
              0.6666666666666666,
              "#ed7953"
             ],
             [
              0.7777777777777778,
              "#fb9f3a"
             ],
             [
              0.8888888888888888,
              "#fdca26"
             ],
             [
              1,
              "#f0f921"
             ]
            ],
            "type": "histogram2dcontour"
           }
          ],
          "mesh3d": [
           {
            "colorbar": {
             "outlinewidth": 0,
             "ticks": ""
            },
            "type": "mesh3d"
           }
          ],
          "parcoords": [
           {
            "line": {
             "colorbar": {
              "outlinewidth": 0,
              "ticks": ""
             }
            },
            "type": "parcoords"
           }
          ],
          "pie": [
           {
            "automargin": true,
            "type": "pie"
           }
          ],
          "scatter": [
           {
            "fillpattern": {
             "fillmode": "overlay",
             "size": 10,
             "solidity": 0.2
            },
            "type": "scatter"
           }
          ],
          "scatter3d": [
           {
            "line": {
             "colorbar": {
              "outlinewidth": 0,
              "ticks": ""
             }
            },
            "marker": {
             "colorbar": {
              "outlinewidth": 0,
              "ticks": ""
             }
            },
            "type": "scatter3d"
           }
          ],
          "scattercarpet": [
           {
            "marker": {
             "colorbar": {
              "outlinewidth": 0,
              "ticks": ""
             }
            },
            "type": "scattercarpet"
           }
          ],
          "scattergeo": [
           {
            "marker": {
             "colorbar": {
              "outlinewidth": 0,
              "ticks": ""
             }
            },
            "type": "scattergeo"
           }
          ],
          "scattergl": [
           {
            "marker": {
             "colorbar": {
              "outlinewidth": 0,
              "ticks": ""
             }
            },
            "type": "scattergl"
           }
          ],
          "scattermapbox": [
           {
            "marker": {
             "colorbar": {
              "outlinewidth": 0,
              "ticks": ""
             }
            },
            "type": "scattermapbox"
           }
          ],
          "scatterpolar": [
           {
            "marker": {
             "colorbar": {
              "outlinewidth": 0,
              "ticks": ""
             }
            },
            "type": "scatterpolar"
           }
          ],
          "scatterpolargl": [
           {
            "marker": {
             "colorbar": {
              "outlinewidth": 0,
              "ticks": ""
             }
            },
            "type": "scatterpolargl"
           }
          ],
          "scatterternary": [
           {
            "marker": {
             "colorbar": {
              "outlinewidth": 0,
              "ticks": ""
             }
            },
            "type": "scatterternary"
           }
          ],
          "surface": [
           {
            "colorbar": {
             "outlinewidth": 0,
             "ticks": ""
            },
            "colorscale": [
             [
              0,
              "#0d0887"
             ],
             [
              0.1111111111111111,
              "#46039f"
             ],
             [
              0.2222222222222222,
              "#7201a8"
             ],
             [
              0.3333333333333333,
              "#9c179e"
             ],
             [
              0.4444444444444444,
              "#bd3786"
             ],
             [
              0.5555555555555556,
              "#d8576b"
             ],
             [
              0.6666666666666666,
              "#ed7953"
             ],
             [
              0.7777777777777778,
              "#fb9f3a"
             ],
             [
              0.8888888888888888,
              "#fdca26"
             ],
             [
              1,
              "#f0f921"
             ]
            ],
            "type": "surface"
           }
          ],
          "table": [
           {
            "cells": {
             "fill": {
              "color": "#EBF0F8"
             },
             "line": {
              "color": "white"
             }
            },
            "header": {
             "fill": {
              "color": "#C8D4E3"
             },
             "line": {
              "color": "white"
             }
            },
            "type": "table"
           }
          ]
         },
         "layout": {
          "annotationdefaults": {
           "arrowcolor": "#2a3f5f",
           "arrowhead": 0,
           "arrowwidth": 1
          },
          "autotypenumbers": "strict",
          "coloraxis": {
           "colorbar": {
            "outlinewidth": 0,
            "ticks": ""
           }
          },
          "colorscale": {
           "diverging": [
            [
             0,
             "#8e0152"
            ],
            [
             0.1,
             "#c51b7d"
            ],
            [
             0.2,
             "#de77ae"
            ],
            [
             0.3,
             "#f1b6da"
            ],
            [
             0.4,
             "#fde0ef"
            ],
            [
             0.5,
             "#f7f7f7"
            ],
            [
             0.6,
             "#e6f5d0"
            ],
            [
             0.7,
             "#b8e186"
            ],
            [
             0.8,
             "#7fbc41"
            ],
            [
             0.9,
             "#4d9221"
            ],
            [
             1,
             "#276419"
            ]
           ],
           "sequential": [
            [
             0,
             "#0d0887"
            ],
            [
             0.1111111111111111,
             "#46039f"
            ],
            [
             0.2222222222222222,
             "#7201a8"
            ],
            [
             0.3333333333333333,
             "#9c179e"
            ],
            [
             0.4444444444444444,
             "#bd3786"
            ],
            [
             0.5555555555555556,
             "#d8576b"
            ],
            [
             0.6666666666666666,
             "#ed7953"
            ],
            [
             0.7777777777777778,
             "#fb9f3a"
            ],
            [
             0.8888888888888888,
             "#fdca26"
            ],
            [
             1,
             "#f0f921"
            ]
           ],
           "sequentialminus": [
            [
             0,
             "#0d0887"
            ],
            [
             0.1111111111111111,
             "#46039f"
            ],
            [
             0.2222222222222222,
             "#7201a8"
            ],
            [
             0.3333333333333333,
             "#9c179e"
            ],
            [
             0.4444444444444444,
             "#bd3786"
            ],
            [
             0.5555555555555556,
             "#d8576b"
            ],
            [
             0.6666666666666666,
             "#ed7953"
            ],
            [
             0.7777777777777778,
             "#fb9f3a"
            ],
            [
             0.8888888888888888,
             "#fdca26"
            ],
            [
             1,
             "#f0f921"
            ]
           ]
          },
          "colorway": [
           "#636efa",
           "#EF553B",
           "#00cc96",
           "#ab63fa",
           "#FFA15A",
           "#19d3f3",
           "#FF6692",
           "#B6E880",
           "#FF97FF",
           "#FECB52"
          ],
          "font": {
           "color": "#2a3f5f"
          },
          "geo": {
           "bgcolor": "white",
           "lakecolor": "white",
           "landcolor": "#E5ECF6",
           "showlakes": true,
           "showland": true,
           "subunitcolor": "white"
          },
          "hoverlabel": {
           "align": "left"
          },
          "hovermode": "closest",
          "mapbox": {
           "style": "light"
          },
          "paper_bgcolor": "white",
          "plot_bgcolor": "#E5ECF6",
          "polar": {
           "angularaxis": {
            "gridcolor": "white",
            "linecolor": "white",
            "ticks": ""
           },
           "bgcolor": "#E5ECF6",
           "radialaxis": {
            "gridcolor": "white",
            "linecolor": "white",
            "ticks": ""
           }
          },
          "scene": {
           "xaxis": {
            "backgroundcolor": "#E5ECF6",
            "gridcolor": "white",
            "gridwidth": 2,
            "linecolor": "white",
            "showbackground": true,
            "ticks": "",
            "zerolinecolor": "white"
           },
           "yaxis": {
            "backgroundcolor": "#E5ECF6",
            "gridcolor": "white",
            "gridwidth": 2,
            "linecolor": "white",
            "showbackground": true,
            "ticks": "",
            "zerolinecolor": "white"
           },
           "zaxis": {
            "backgroundcolor": "#E5ECF6",
            "gridcolor": "white",
            "gridwidth": 2,
            "linecolor": "white",
            "showbackground": true,
            "ticks": "",
            "zerolinecolor": "white"
           }
          },
          "shapedefaults": {
           "line": {
            "color": "#2a3f5f"
           }
          },
          "ternary": {
           "aaxis": {
            "gridcolor": "white",
            "linecolor": "white",
            "ticks": ""
           },
           "baxis": {
            "gridcolor": "white",
            "linecolor": "white",
            "ticks": ""
           },
           "bgcolor": "#E5ECF6",
           "caxis": {
            "gridcolor": "white",
            "linecolor": "white",
            "ticks": ""
           }
          },
          "title": {
           "x": 0.05
          },
          "xaxis": {
           "automargin": true,
           "gridcolor": "white",
           "linecolor": "white",
           "ticks": "",
           "title": {
            "standoff": 15
           },
           "zerolinecolor": "white",
           "zerolinewidth": 2
          },
          "yaxis": {
           "automargin": true,
           "gridcolor": "white",
           "linecolor": "white",
           "ticks": "",
           "title": {
            "standoff": 15
           },
           "zerolinecolor": "white",
           "zerolinewidth": 2
          }
         }
        },
        "title": {
         "text": "Séries Temporais por País"
        },
        "width": 1500,
        "xaxis": {
         "anchor": "y",
         "domain": [
          0,
          0.2888888888888889
         ]
        },
        "xaxis10": {
         "anchor": "y10",
         "domain": [
          0,
          0.2888888888888889
         ]
        },
        "xaxis11": {
         "anchor": "y11",
         "domain": [
          0.35555555555555557,
          0.6444444444444445
         ]
        },
        "xaxis12": {
         "anchor": "y12",
         "domain": [
          0.7111111111111111,
          1
         ]
        },
        "xaxis13": {
         "anchor": "y13",
         "domain": [
          0,
          0.2888888888888889
         ]
        },
        "xaxis14": {
         "anchor": "y14",
         "domain": [
          0.35555555555555557,
          0.6444444444444445
         ]
        },
        "xaxis15": {
         "anchor": "y15",
         "domain": [
          0.7111111111111111,
          1
         ]
        },
        "xaxis2": {
         "anchor": "y2",
         "domain": [
          0.35555555555555557,
          0.6444444444444445
         ]
        },
        "xaxis3": {
         "anchor": "y3",
         "domain": [
          0.7111111111111111,
          1
         ]
        },
        "xaxis4": {
         "anchor": "y4",
         "domain": [
          0,
          0.2888888888888889
         ]
        },
        "xaxis5": {
         "anchor": "y5",
         "domain": [
          0.35555555555555557,
          0.6444444444444445
         ]
        },
        "xaxis6": {
         "anchor": "y6",
         "domain": [
          0.7111111111111111,
          1
         ]
        },
        "xaxis7": {
         "anchor": "y7",
         "domain": [
          0,
          0.2888888888888889
         ]
        },
        "xaxis8": {
         "anchor": "y8",
         "domain": [
          0.35555555555555557,
          0.6444444444444445
         ]
        },
        "xaxis9": {
         "anchor": "y9",
         "domain": [
          0.7111111111111111,
          1
         ]
        },
        "yaxis": {
         "anchor": "x",
         "domain": [
          0.88,
          1
         ]
        },
        "yaxis10": {
         "anchor": "x10",
         "domain": [
          0.22,
          0.33999999999999997
         ]
        },
        "yaxis11": {
         "anchor": "x11",
         "domain": [
          0.22,
          0.33999999999999997
         ]
        },
        "yaxis12": {
         "anchor": "x12",
         "domain": [
          0.22,
          0.33999999999999997
         ]
        },
        "yaxis13": {
         "anchor": "x13",
         "domain": [
          0,
          0.12
         ]
        },
        "yaxis14": {
         "anchor": "x14",
         "domain": [
          0,
          0.12
         ]
        },
        "yaxis15": {
         "anchor": "x15",
         "domain": [
          0,
          0.12
         ]
        },
        "yaxis2": {
         "anchor": "x2",
         "domain": [
          0.88,
          1
         ]
        },
        "yaxis3": {
         "anchor": "x3",
         "domain": [
          0.88,
          1
         ]
        },
        "yaxis4": {
         "anchor": "x4",
         "domain": [
          0.66,
          0.78
         ]
        },
        "yaxis5": {
         "anchor": "x5",
         "domain": [
          0.66,
          0.78
         ]
        },
        "yaxis6": {
         "anchor": "x6",
         "domain": [
          0.66,
          0.78
         ]
        },
        "yaxis7": {
         "anchor": "x7",
         "domain": [
          0.44,
          0.56
         ]
        },
        "yaxis8": {
         "anchor": "x8",
         "domain": [
          0.44,
          0.56
         ]
        },
        "yaxis9": {
         "anchor": "x9",
         "domain": [
          0.44,
          0.56
         ]
        }
       }
      }
     },
     "metadata": {},
     "output_type": "display_data"
    }
   ],
   "source": [
    "# Criar lista de países únicos\n",
    "countries = anl_pais['País'].unique()\n",
    "\n",
    "# Criar a figura com 3 colunas e 5 linhas\n",
    "fig = subplots.make_subplots(rows=5, cols=3, subplot_titles=countries)\n",
    "\n",
    "# Adicionar um gráfico de linha para cada país\n",
    "for i, country in enumerate(countries):\n",
    "    # Filtrar dados para o país específico\n",
    "    country_data = df[df['País'] == country]\n",
    "    \n",
    "    # Criar o gráfico de linha\n",
    "    fig.add_trace(\n",
    "        px.line(country_data, x='Data', y='Valor FOB (US$)', title=country).data[0],\n",
    "        row=(i // 3) + 1, col=(i % 3) + 1\n",
    "    )\n",
    "\n",
    "# Atualizar layout da figura\n",
    "fig.update_layout(height=800, width=1500, title_text=\"Séries Temporais por País\")\n",
    "fig.show()"
   ]
  },
  {
   "cell_type": "code",
   "execution_count": null,
   "metadata": {},
   "outputs": [],
   "source": []
  }
 ],
 "metadata": {
  "kernelspec": {
   "display_name": ".venv",
   "language": "python",
   "name": "python3"
  },
  "language_info": {
   "codemirror_mode": {
    "name": "ipython",
    "version": 3
   },
   "file_extension": ".py",
   "mimetype": "text/x-python",
   "name": "python",
   "nbconvert_exporter": "python",
   "pygments_lexer": "ipython3",
   "version": "3.12.1"
  }
 },
 "nbformat": 4,
 "nbformat_minor": 2
}
